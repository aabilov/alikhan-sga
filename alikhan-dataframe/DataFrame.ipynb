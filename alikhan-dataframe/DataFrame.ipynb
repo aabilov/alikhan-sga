{
 "cells": [
  {
   "cell_type": "code",
   "execution_count": 1,
   "metadata": {
    "collapsed": false
   },
   "outputs": [],
   "source": [
    "from pyspark.sql.functions import *\n",
    "from pyspark.sql.window import *\n",
    "from numpy import inf"
   ]
  },
  {
   "cell_type": "code",
   "execution_count": 2,
   "metadata": {
    "collapsed": true
   },
   "outputs": [],
   "source": [
    "path_to_csv = '/data/lsml/sga/clickstream.csv'"
   ]
  },
  {
   "cell_type": "code",
   "execution_count": 3,
   "metadata": {
    "collapsed": false
   },
   "outputs": [],
   "source": [
    "clickstream = spark.read.options(header=True, delimiter='\\t', inferSchema=True).csv(path_to_csv)"
   ]
  },
  {
   "cell_type": "code",
   "execution_count": 4,
   "metadata": {
    "collapsed": false
   },
   "outputs": [],
   "source": [
    "# create column stop_time where time of error is recorded\n",
    "clickstream = clickstream.withColumn(\"stop_time\", when(clickstream.event_type.rlike(\"error\"), \n",
    "                                                       clickstream.timestamp).otherwise(inf))"
   ]
  },
  {
   "cell_type": "code",
   "execution_count": 5,
   "metadata": {
    "collapsed": false
   },
   "outputs": [],
   "source": [
    "# find time of error for every user session\n",
    "stop_time = clickstream.groupBy('session_id', 'user_id').min('stop_time')"
   ]
  },
  {
   "cell_type": "code",
   "execution_count": 6,
   "metadata": {
    "collapsed": false
   },
   "outputs": [],
   "source": [
    "# fill out column stop_time where time of error is recorded\n",
    "clickstream = clickstream.join(stop_time, ['session_id', 'user_id'], how='left')"
   ]
  },
  {
   "cell_type": "code",
   "execution_count": 7,
   "metadata": {
    "collapsed": true
   },
   "outputs": [],
   "source": [
    "# add 1 to error time in timestamp \n",
    "clickstream = clickstream.withColumn(\"timestamp\", when(clickstream.event_type.rlike(\"error\"), \n",
    "                                                       clickstream.timestamp + 1).otherwise(clickstream.timestamp))"
   ]
  },
  {
   "cell_type": "code",
   "execution_count": 8,
   "metadata": {
    "collapsed": false
   },
   "outputs": [],
   "source": [
    "# remove all records after error occured\n",
    "clickstream = clickstream.filter(clickstream['timestamp'] <= clickstream['min(stop_time)'])"
   ]
  },
  {
   "cell_type": "code",
   "execution_count": 9,
   "metadata": {
    "collapsed": true
   },
   "outputs": [],
   "source": [
    "# create column LAG where column event_page is offset by one\n",
    "partition = Window.partitionBy(\"session_id\", 'user_id').orderBy('timestamp')\n",
    "clickstream = clickstream.withColumn(\"LAG\",lag(\"event_page\",1).over(partition))"
   ]
  },
  {
   "cell_type": "code",
   "execution_count": 10,
   "metadata": {
    "collapsed": false
   },
   "outputs": [],
   "source": [
    "# remove diplicate records in event_page\n",
    "clickstream = clickstream.filter(expr(\"event_page is distinct from LAG\"))"
   ]
  },
  {
   "cell_type": "code",
   "execution_count": 11,
   "metadata": {
    "collapsed": false
   },
   "outputs": [],
   "source": [
    "# create route column\n",
    "clickstream = clickstream.groupby(\"session_id\", \n",
    "                                  'user_id').agg(concat_ws(\"-\", collect_list(clickstream.event_page)).alias('route'))"
   ]
  },
  {
   "cell_type": "code",
   "execution_count": 12,
   "metadata": {
    "collapsed": false,
    "scrolled": false
   },
   "outputs": [],
   "source": [
    "output = clickstream.select('route').groupBy('route').count().orderBy('count', ascending=False).limit(30)"
   ]
  },
  {
   "cell_type": "code",
   "execution_count": 13,
   "metadata": {
    "collapsed": false
   },
   "outputs": [],
   "source": [
    "output = output.toPandas()"
   ]
  },
  {
   "cell_type": "code",
   "execution_count": 14,
   "metadata": {
    "collapsed": true
   },
   "outputs": [],
   "source": [
    "output.to_csv('/home/aabilov/output.csv', header=False, index=False, sep='\\t')"
   ]
  },
  {
   "cell_type": "code",
   "execution_count": 15,
   "metadata": {
    "collapsed": false
   },
   "outputs": [
    {
     "name": "stdout",
     "output_type": "stream",
     "text": [
      "main\t39752\r\n",
      "main-tariffs\t6606\r\n",
      "main-news\t6349\r\n",
      "main-archive\t5924\r\n",
      "main-family\t4910\r\n",
      "main-digital\t4277\r\n",
      "main-bonus\t3535\r\n",
      "main-tariffs-news\t1201\r\n",
      "main-news-tariffs\t1146\r\n",
      "main-tariffs-archive\t1050\r\n",
      "main-news-archive\t1026\r\n",
      "main-archive-tariffs\t1009\r\n",
      "main-archive-news\t1008\r\n",
      "main-news-family\t932\r\n",
      "main-family-tariffs\t927\r\n",
      "main-tariffs-family\t923\r\n",
      "main-family-news\t890\r\n",
      "main-archive-family\t826\r\n",
      "main-news-digital\t803\r\n",
      "main-tariffs-main\t791\r\n",
      "main-family-archive\t777\r\n",
      "main-tariffs-digital\t761\r\n",
      "main-digital-news\t755\r\n",
      "main-digital-tariffs\t731\r\n",
      "main-archive-digital\t724\r\n",
      "main-spravka\t712\r\n",
      "main-news-main\t701\r\n",
      "main-digital-archive\t688\r\n",
      "main-tariffs-bonus\t671\r\n",
      "main-archive-main\t631\r\n"
     ]
    }
   ],
   "source": [
    "!cat /home/aabilov/output.csv"
   ]
  },
  {
   "cell_type": "code",
   "execution_count": 16,
   "metadata": {
    "collapsed": false
   },
   "outputs": [
    {
     "name": "stdout",
     "output_type": "stream",
     "text": [
      "Great job! Secret keyword is 'HiveMind'\r\n"
     ]
    }
   ],
   "source": [
    "! curl -d \"$(cat /home/aabilov/output.csv)\" hadoop2-00.yandex.ru:8008/sga/task_hive"
   ]
  },
  {
   "cell_type": "code",
   "execution_count": null,
   "metadata": {
    "collapsed": true
   },
   "outputs": [],
   "source": []
  }
 ],
 "metadata": {
  "kernelspec": {
   "display_name": "Python 2",
   "language": "python",
   "name": "python2"
  },
  "language_info": {
   "codemirror_mode": {
    "name": "ipython",
    "version": 2
   },
   "file_extension": ".py",
   "mimetype": "text/x-python",
   "name": "python",
   "nbconvert_exporter": "python",
   "pygments_lexer": "ipython2",
   "version": "2.7.11"
  }
 },
 "nbformat": 4,
 "nbformat_minor": 2
}
