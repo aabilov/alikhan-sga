{
 "cells": [
  {
   "cell_type": "code",
   "execution_count": 1,
   "metadata": {
    "collapsed": true
   },
   "outputs": [],
   "source": [
    "from numpy import inf\n",
    "from itertools import groupby"
   ]
  },
  {
   "cell_type": "code",
   "execution_count": 2,
   "metadata": {
    "collapsed": true
   },
   "outputs": [],
   "source": [
    "path_to_csv = '/data/lsml/sga/clickstream.csv'"
   ]
  },
  {
   "cell_type": "code",
   "execution_count": 3,
   "metadata": {
    "collapsed": true
   },
   "outputs": [],
   "source": [
    "clickstream = sc.textFile(path_to_csv)"
   ]
  },
  {
   "cell_type": "code",
   "execution_count": 4,
   "metadata": {
    "collapsed": true
   },
   "outputs": [],
   "source": [
    "header = clickstream.first()"
   ]
  },
  {
   "cell_type": "code",
   "execution_count": 5,
   "metadata": {
    "collapsed": false
   },
   "outputs": [],
   "source": [
    "clickstream = clickstream.filter(lambda x: x != header)"
   ]
  },
  {
   "cell_type": "code",
   "execution_count": 6,
   "metadata": {
    "collapsed": false
   },
   "outputs": [],
   "source": [
    "clickstream = clickstream.map(lambda x: x.split('\\t'))\n",
    "clickstream = clickstream.map(lambda x: (x[0] + x[1], x[2], x[3], x[4]))"
   ]
  },
  {
   "cell_type": "code",
   "execution_count": 8,
   "metadata": {
    "collapsed": false
   },
   "outputs": [],
   "source": [
    "# get dict of error time for each user session \n",
    "stop_time = clickstream.map(lambda x: (x[0], int(x[3])) if 'error' in x[1] else (x[0], inf))\n",
    "stop_time = stop_time.reduceByKey(min)\n",
    "stop_time_dict = stop_time.collectAsMap()"
   ]
  },
  {
   "cell_type": "code",
   "execution_count": 9,
   "metadata": {
    "collapsed": false
   },
   "outputs": [],
   "source": [
    "# get column of error time for each user session\n",
    "clickstream = clickstream.map(lambda x: (x[0], x[1], x[2], x[3], stop_time_dict[x[0]]))"
   ]
  },
  {
   "cell_type": "code",
   "execution_count": 10,
   "metadata": {
    "collapsed": false
   },
   "outputs": [],
   "source": [
    "# remove logs after error occured\n",
    "clickstream = clickstream.filter(lambda x: int(x[3]) < x[4])"
   ]
  },
  {
   "cell_type": "code",
   "execution_count": 11,
   "metadata": {
    "collapsed": false
   },
   "outputs": [],
   "source": [
    "# get routes with duplicate pages\n",
    "routs = clickstream.map(lambda x: (x[0], x[2])).reduceByKey(lambda a, b: a + '-' + b)"
   ]
  },
  {
   "cell_type": "code",
   "execution_count": 12,
   "metadata": {
    "collapsed": true
   },
   "outputs": [],
   "source": [
    "# remove diplicates from line like 'main-main-tarrif' -> 'main-tarrif'\n",
    "def duplicate_remover(line):\n",
    "    pages_list = line[1].split('-')\n",
    "    pages_list_no_duplicates = [key for key, grp in groupby(pages_list)]\n",
    "    pages_string = '-'.join(pages_list_no_duplicates)\n",
    "    return pages_string"
   ]
  },
  {
   "cell_type": "code",
   "execution_count": 13,
   "metadata": {
    "collapsed": false
   },
   "outputs": [],
   "source": [
    "# remove duplicates\n",
    "routs = routs.map(lambda x: (duplicate_remover(x), 1))"
   ]
  },
  {
   "cell_type": "code",
   "execution_count": 14,
   "metadata": {
    "collapsed": false
   },
   "outputs": [],
   "source": [
    "output = routs.reduceByKey(lambda a, b: a + b).sortBy(lambda x: x[1], ascending=False).take(30)"
   ]
  },
  {
   "cell_type": "code",
   "execution_count": 15,
   "metadata": {
    "collapsed": false
   },
   "outputs": [],
   "source": [
    "answer = ''\n",
    "for line in output:\n",
    "    answer += line[0] + '\\t' + str(line[1]) + '\\n'"
   ]
  },
  {
   "cell_type": "code",
   "execution_count": 16,
   "metadata": {
    "collapsed": false
   },
   "outputs": [],
   "source": [
    "with open(\"/home/aabilov/output.txt\", \"w\") as text_file:\n",
    "    text_file.write(answer)\n",
    "    text_file.close()"
   ]
  },
  {
   "cell_type": "code",
   "execution_count": 17,
   "metadata": {
    "collapsed": false
   },
   "outputs": [
    {
     "name": "stdout",
     "output_type": "stream",
     "text": [
      "main\t39506\r\n",
      "main-tariffs\t6580\r\n",
      "main-news\t6314\r\n",
      "main-archive\t5886\r\n",
      "main-family\t4884\r\n",
      "main-digital\t4248\r\n",
      "main-bonus\t3505\r\n",
      "main-tariffs-news\t1196\r\n",
      "main-news-tariffs\t1141\r\n",
      "main-tariffs-archive\t1039\r\n",
      "main-news-archive\t1020\r\n",
      "main-archive-tariffs\t1004\r\n",
      "main-archive-news\t999\r\n",
      "main-news-family\t927\r\n",
      "main-family-tariffs\t923\r\n",
      "main-tariffs-family\t918\r\n",
      "main-family-news\t886\r\n",
      "main-archive-family\t822\r\n",
      "main-news-digital\t801\r\n",
      "main-tariffs-main\t789\r\n",
      "main-family-archive\t777\r\n",
      "main-tariffs-digital\t757\r\n",
      "main-digital-news\t752\r\n",
      "main-digital-tariffs\t729\r\n",
      "main-archive-digital\t719\r\n",
      "main-spravka\t708\r\n",
      "main-news-main\t700\r\n",
      "main-digital-archive\t683\r\n",
      "main-tariffs-bonus\t666\r\n",
      "main-archive-main\t624\r\n"
     ]
    }
   ],
   "source": [
    "! cat /home/aabilov/output.txt"
   ]
  },
  {
   "cell_type": "code",
   "execution_count": 18,
   "metadata": {
    "collapsed": false
   },
   "outputs": [
    {
     "name": "stdout",
     "output_type": "stream",
     "text": [
      "Great job! Secret keyword is 'HiveMind'\r\n"
     ]
    }
   ],
   "source": [
    "! curl -d \"$(cat /home/aabilov/output.txt)\" hadoop2-00.yandex.ru:8008/sga/task_hive"
   ]
  },
  {
   "cell_type": "code",
   "execution_count": null,
   "metadata": {
    "collapsed": true
   },
   "outputs": [],
   "source": []
  }
 ],
 "metadata": {
  "kernelspec": {
   "display_name": "Python 2",
   "language": "python",
   "name": "python2"
  },
  "language_info": {
   "codemirror_mode": {
    "name": "ipython",
    "version": 2
   },
   "file_extension": ".py",
   "mimetype": "text/x-python",
   "name": "python",
   "nbconvert_exporter": "python",
   "pygments_lexer": "ipython2",
   "version": "2.7.11"
  }
 },
 "nbformat": 4,
 "nbformat_minor": 2
}
